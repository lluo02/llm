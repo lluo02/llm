{
 "cells": [
  {
   "cell_type": "code",
   "execution_count": 1,
   "id": "03697d66-f834-49b6-85e7-d09ef8a6c946",
   "metadata": {
    "execution": {
     "iopub.execute_input": "2024-07-07T22:53:36.473163Z",
     "iopub.status.busy": "2024-07-07T22:53:36.472752Z",
     "iopub.status.idle": "2024-07-07T22:53:37.776944Z",
     "shell.execute_reply": "2024-07-07T22:53:37.776301Z",
     "shell.execute_reply.started": "2024-07-07T22:53:36.473139Z"
    },
    "tags": []
   },
   "outputs": [
    {
     "name": "stdout",
     "output_type": "stream",
     "text": [
      "--2024-07-07 22:53:37--  https://raw.githubusercontent.com/alexeygrigorev/minsearch/main/minsearch.py\n",
      "Resolving raw.githubusercontent.com (raw.githubusercontent.com)... 185.199.109.133, 185.199.111.133, 185.199.108.133, ...\n",
      "Connecting to raw.githubusercontent.com (raw.githubusercontent.com)|185.199.109.133|:443... connected.\n",
      "HTTP request sent, awaiting response... 200 OK\n",
      "Length: 3832 (3.7K) [text/plain]\n",
      "Saving to: ‘minsearch.py’\n",
      "\n",
      "minsearch.py        100%[===================>]   3.74K  --.-KB/s    in 0s      \n",
      "\n",
      "2024-07-07 22:53:37 (46.6 MB/s) - ‘minsearch.py’ saved [3832/3832]\n",
      "\n"
     ]
    }
   ],
   "source": [
    "!rm -f minsearch.py\n",
    "!wget https://raw.githubusercontent.com/alexeygrigorev/minsearch/main/minsearch.py"
   ]
  },
  {
   "cell_type": "code",
   "execution_count": 1,
   "id": "170873f8-4aac-45df-bf35-3e8c55987bea",
   "metadata": {
    "execution": {
     "iopub.execute_input": "2024-07-07T23:01:48.256871Z",
     "iopub.status.busy": "2024-07-07T23:01:48.256495Z",
     "iopub.status.idle": "2024-07-07T23:01:48.263469Z",
     "shell.execute_reply": "2024-07-07T23:01:48.262708Z",
     "shell.execute_reply.started": "2024-07-07T23:01:48.256846Z"
    },
    "tags": []
   },
   "outputs": [],
   "source": [
    "import os\n",
    "os.environ['HF_HOME'] = '/run/cache/'"
   ]
  },
  {
   "cell_type": "code",
   "execution_count": 2,
   "id": "0c54a9fa-8e0e-4533-b45e-4fbe35f01bd7",
   "metadata": {
    "execution": {
     "iopub.execute_input": "2024-07-07T23:01:49.684266Z",
     "iopub.status.busy": "2024-07-07T23:01:49.683939Z",
     "iopub.status.idle": "2024-07-07T23:01:51.863274Z",
     "shell.execute_reply": "2024-07-07T23:01:51.862382Z",
     "shell.execute_reply.started": "2024-07-07T23:01:49.684242Z"
    },
    "tags": []
   },
   "outputs": [
    {
     "data": {
      "text/plain": [
       "<minsearch.Index at 0x7fd648c2cf70>"
      ]
     },
     "execution_count": 2,
     "metadata": {},
     "output_type": "execute_result"
    }
   ],
   "source": [
    "import requests \n",
    "import minsearch\n",
    "\n",
    "docs_url = 'https://github.com/DataTalksClub/llm-zoomcamp/blob/main/01-intro/documents.json?raw=1'\n",
    "docs_response = requests.get(docs_url)\n",
    "documents_raw = docs_response.json()\n",
    "\n",
    "documents = []\n",
    "\n",
    "for course in documents_raw:\n",
    "    course_name = course['course']\n",
    "\n",
    "    for doc in course['documents']:\n",
    "        doc['course'] = course_name\n",
    "        documents.append(doc)\n",
    "\n",
    "index = minsearch.Index(\n",
    "    text_fields=[\"question\", \"text\", \"section\"],\n",
    "    keyword_fields=[\"course\"]\n",
    ")\n",
    "\n",
    "index.fit(documents)"
   ]
  },
  {
   "cell_type": "code",
   "execution_count": 18,
   "id": "8f9f3619-42ba-4be6-a1a7-5927dc67d582",
   "metadata": {
    "execution": {
     "iopub.execute_input": "2024-07-07T23:11:54.954976Z",
     "iopub.status.busy": "2024-07-07T23:11:54.954603Z",
     "iopub.status.idle": "2024-07-07T23:11:54.959186Z",
     "shell.execute_reply": "2024-07-07T23:11:54.958425Z",
     "shell.execute_reply.started": "2024-07-07T23:11:54.954948Z"
    },
    "tags": []
   },
   "outputs": [],
   "source": [
    "def search(query):\n",
    "    boost = {'question': 3.0, 'section': 0.5}\n",
    "\n",
    "    results = index.search(\n",
    "        query=query,\n",
    "        boost_dict=boost,\n",
    "        filter_dict={'course': 'data-engineering-zoomcamp'},\n",
    "        num_results=5\n",
    "    )\n",
    "    return results"
   ]
  },
  {
   "cell_type": "code",
   "execution_count": 19,
   "id": "60cf3f25-a6ac-4199-9dba-d9e9c92726f4",
   "metadata": {
    "execution": {
     "iopub.execute_input": "2024-07-07T23:11:55.240205Z",
     "iopub.status.busy": "2024-07-07T23:11:55.239925Z",
     "iopub.status.idle": "2024-07-07T23:11:55.243882Z",
     "shell.execute_reply": "2024-07-07T23:11:55.243157Z",
     "shell.execute_reply.started": "2024-07-07T23:11:55.240184Z"
    },
    "tags": []
   },
   "outputs": [],
   "source": [
    "def rag(query):\n",
    "    search_results = search(query)\n",
    "    prompt = build_prompt(query, search_results)\n",
    "    answer = llm(prompt)\n",
    "    return answer"
   ]
  },
  {
   "cell_type": "code",
   "execution_count": 6,
   "id": "167e7186-4c53-4e0c-abbc-98d33e28add2",
   "metadata": {
    "execution": {
     "iopub.execute_input": "2024-07-07T23:01:52.559403Z",
     "iopub.status.busy": "2024-07-07T23:01:52.559109Z",
     "iopub.status.idle": "2024-07-07T23:01:54.508310Z",
     "shell.execute_reply": "2024-07-07T23:01:54.507602Z",
     "shell.execute_reply.started": "2024-07-07T23:01:52.559381Z"
    },
    "tags": []
   },
   "outputs": [],
   "source": [
    "from transformers import T5Tokenizer, T5ForConditionalGeneration"
   ]
  },
  {
   "cell_type": "code",
   "execution_count": 7,
   "id": "c3e4440d-60c7-4031-a583-2a2424fb3285",
   "metadata": {
    "execution": {
     "iopub.execute_input": "2024-07-07T23:01:54.511152Z",
     "iopub.status.busy": "2024-07-07T23:01:54.510602Z",
     "iopub.status.idle": "2024-07-07T23:01:55.138398Z",
     "shell.execute_reply": "2024-07-07T23:01:55.137656Z",
     "shell.execute_reply.started": "2024-07-07T23:01:54.511115Z"
    },
    "tags": []
   },
   "outputs": [
    {
     "name": "stdout",
     "output_type": "stream",
     "text": [
      "Filesystem      Size  Used Avail Use% Mounted on\n",
      "overlay         100G   36G   65G  36% /\n",
      "tmpfs            64M     0   64M   0% /dev\n",
      "tmpfs           7.7G     0  7.7G   0% /sys/fs/cgroup\n",
      "/dev/nvme0n1p1  100G   36G   65G  36% /run\n",
      "tmpfs            14G     0   14G   0% /dev/shm\n",
      "/dev/nvme2n1    2.0G  130M  1.8G   7% /home/jovyan\n",
      "tmpfs            14G  120K   14G   1% /home/jovyan/.saturn\n",
      "tmpfs            14G   12K   14G   1% /run/secrets/kubernetes.io/serviceaccount\n",
      "tmpfs           7.7G   12K  7.7G   1% /proc/driver/nvidia\n",
      "tmpfs           7.7G  4.0M  7.7G   1% /run/nvidia-persistenced/socket\n",
      "tmpfs           7.7G     0  7.7G   0% /proc/acpi\n",
      "tmpfs           7.7G     0  7.7G   0% /sys/firmware\n"
     ]
    }
   ],
   "source": [
    "!df -h"
   ]
  },
  {
   "cell_type": "code",
   "execution_count": 8,
   "id": "91844d4b-aaa8-427b-934c-dcf1096465f6",
   "metadata": {
    "execution": {
     "iopub.execute_input": "2024-07-07T23:01:55.140612Z",
     "iopub.status.busy": "2024-07-07T23:01:55.140095Z",
     "iopub.status.idle": "2024-07-07T23:03:14.951364Z",
     "shell.execute_reply": "2024-07-07T23:03:14.950598Z",
     "shell.execute_reply.started": "2024-07-07T23:01:55.140567Z"
    },
    "tags": []
   },
   "outputs": [
    {
     "data": {
      "application/vnd.jupyter.widget-view+json": {
       "model_id": "fcf1ec2aca8a4748a93b58ed099bf5e7",
       "version_major": 2,
       "version_minor": 0
      },
      "text/plain": [
       "tokenizer_config.json:   0%|          | 0.00/2.54k [00:00<?, ?B/s]"
      ]
     },
     "metadata": {},
     "output_type": "display_data"
    },
    {
     "data": {
      "application/vnd.jupyter.widget-view+json": {
       "model_id": "99c7f64891984aafa629acd86eacf4c3",
       "version_major": 2,
       "version_minor": 0
      },
      "text/plain": [
       "spiece.model:   0%|          | 0.00/792k [00:00<?, ?B/s]"
      ]
     },
     "metadata": {},
     "output_type": "display_data"
    },
    {
     "data": {
      "application/vnd.jupyter.widget-view+json": {
       "model_id": "62147b164bfb4f3ebc57ce47bdee354a",
       "version_major": 2,
       "version_minor": 0
      },
      "text/plain": [
       "special_tokens_map.json:   0%|          | 0.00/2.20k [00:00<?, ?B/s]"
      ]
     },
     "metadata": {},
     "output_type": "display_data"
    },
    {
     "data": {
      "application/vnd.jupyter.widget-view+json": {
       "model_id": "626cb67e224e47c2b904c265a06fd99f",
       "version_major": 2,
       "version_minor": 0
      },
      "text/plain": [
       "tokenizer.json:   0%|          | 0.00/2.42M [00:00<?, ?B/s]"
      ]
     },
     "metadata": {},
     "output_type": "display_data"
    },
    {
     "name": "stderr",
     "output_type": "stream",
     "text": [
      "You are using the default legacy behaviour of the <class 'transformers.models.t5.tokenization_t5.T5Tokenizer'>. This is expected, and simply means that the `legacy` (previous) behavior will be used so nothing changes for you. If you want to use the new behaviour, set `legacy=False`. This should only be set if you understand what it means, and thoroughly read the reason why this was added as explained in https://github.com/huggingface/transformers/pull/24565\n",
      "Special tokens have been added in the vocabulary, make sure the associated word embeddings are fine-tuned or trained.\n"
     ]
    },
    {
     "data": {
      "application/vnd.jupyter.widget-view+json": {
       "model_id": "02d05e8a16ae494fbef437af5332b874",
       "version_major": 2,
       "version_minor": 0
      },
      "text/plain": [
       "config.json:   0%|          | 0.00/1.44k [00:00<?, ?B/s]"
      ]
     },
     "metadata": {},
     "output_type": "display_data"
    },
    {
     "data": {
      "application/vnd.jupyter.widget-view+json": {
       "model_id": "832fdfeff3fc4763bd2aff5a6082f09b",
       "version_major": 2,
       "version_minor": 0
      },
      "text/plain": [
       "model.safetensors.index.json:   0%|          | 0.00/53.0k [00:00<?, ?B/s]"
      ]
     },
     "metadata": {},
     "output_type": "display_data"
    },
    {
     "data": {
      "application/vnd.jupyter.widget-view+json": {
       "model_id": "71a1be2b5ed9473a915947787f6b6afe",
       "version_major": 2,
       "version_minor": 0
      },
      "text/plain": [
       "Downloading shards:   0%|          | 0/2 [00:00<?, ?it/s]"
      ]
     },
     "metadata": {},
     "output_type": "display_data"
    },
    {
     "data": {
      "application/vnd.jupyter.widget-view+json": {
       "model_id": "1f835ba6df3948a2b7e124a7d262a436",
       "version_major": 2,
       "version_minor": 0
      },
      "text/plain": [
       "model-00001-of-00002.safetensors:   0%|          | 0.00/9.45G [00:00<?, ?B/s]"
      ]
     },
     "metadata": {},
     "output_type": "display_data"
    },
    {
     "data": {
      "application/vnd.jupyter.widget-view+json": {
       "model_id": "df7ce3508f0f4352ab7de9dfad2a5a88",
       "version_major": 2,
       "version_minor": 0
      },
      "text/plain": [
       "model-00002-of-00002.safetensors:   0%|          | 0.00/1.95G [00:00<?, ?B/s]"
      ]
     },
     "metadata": {},
     "output_type": "display_data"
    },
    {
     "data": {
      "application/vnd.jupyter.widget-view+json": {
       "model_id": "42949be232dc4e19ad1d2d016aa7ffbd",
       "version_major": 2,
       "version_minor": 0
      },
      "text/plain": [
       "Loading checkpoint shards:   0%|          | 0/2 [00:00<?, ?it/s]"
      ]
     },
     "metadata": {},
     "output_type": "display_data"
    },
    {
     "data": {
      "application/vnd.jupyter.widget-view+json": {
       "model_id": "04fa1724ab1a493b98667171569e4189",
       "version_major": 2,
       "version_minor": 0
      },
      "text/plain": [
       "generation_config.json:   0%|          | 0.00/147 [00:00<?, ?B/s]"
      ]
     },
     "metadata": {},
     "output_type": "display_data"
    }
   ],
   "source": [
    "tokenizer = T5Tokenizer.from_pretrained(\"google/flan-t5-xl\")\n",
    "model = T5ForConditionalGeneration.from_pretrained(\"google/flan-t5-xl\", device_map=\"auto\")"
   ]
  },
  {
   "cell_type": "code",
   "execution_count": 10,
   "id": "f646ec70-1bdc-4a32-a5cd-9a879574be96",
   "metadata": {
    "execution": {
     "iopub.execute_input": "2024-07-07T23:04:56.708141Z",
     "iopub.status.busy": "2024-07-07T23:04:56.707737Z",
     "iopub.status.idle": "2024-07-07T23:05:05.539486Z",
     "shell.execute_reply": "2024-07-07T23:05:05.538596Z",
     "shell.execute_reply.started": "2024-07-07T23:04:56.708114Z"
    },
    "tags": []
   },
   "outputs": [
    {
     "name": "stdout",
     "output_type": "stream",
     "text": [
      "<pad> Wie alt sind Sie?</s>\n"
     ]
    }
   ],
   "source": [
    "input_text = \"translate English to German: How old are you?\"\n",
    "input_ids = tokenizer(input_text, return_tensors=\"pt\").input_ids.to(\"cuda\")\n",
    "\n",
    "outputs = model.generate(input_ids)\n",
    "result = tokenizer.decode(outputs[0])"
   ]
  },
  {
   "cell_type": "code",
   "execution_count": null,
   "id": "804d30b2-de9b-4152-9fca-34f5cec1ede9",
   "metadata": {},
   "outputs": [],
   "source": [
    "def build_prompt(query, search_results):\n",
    "    prompt_template = \"\"\"\n",
    "        You are a course teaching assistant. Answer the QUESTION based on the CONTEXT. Use ONLY the facts from the CONTEXT to answer the QUESTION. \n",
    "        If the CONTEXT doesn't have the answer, answer NONE.\n",
    "        \n",
    "        QUESTION: {question}\n",
    "        \n",
    "        CONTEXT: {context}\n",
    "        \"\"\".strip()\n",
    "    context=\"\"\n",
    "\n",
    "    for doc in search_results:\n",
    "        context = context + f\"section: {doc['section']}\\nquestion: {doc['question']}\\nanswer: {doc['text']}\\n\\n\"\n",
    "        \n",
    "    prompt = prompt_template.format(question=query, context=context).strip()\n",
    "    return prompt"
   ]
  },
  {
   "cell_type": "code",
   "execution_count": 29,
   "id": "87cd27d1-561b-4ab0-91d0-1f551f4163d1",
   "metadata": {
    "execution": {
     "iopub.execute_input": "2024-07-07T23:21:07.657725Z",
     "iopub.status.busy": "2024-07-07T23:21:07.657246Z",
     "iopub.status.idle": "2024-07-07T23:21:07.662663Z",
     "shell.execute_reply": "2024-07-07T23:21:07.661731Z",
     "shell.execute_reply.started": "2024-07-07T23:21:07.657692Z"
    },
    "tags": []
   },
   "outputs": [],
   "source": [
    "def llm(prompt, generate_params={}):\n",
    "    input_ids = tokenizer(prompt, return_tensors=\"pt\").input_ids.to(\"cuda\")\n",
    "\n",
    "    outputs = model.generate(input_ids, max_length=generate_params.get(\"max_length\",100))\n",
    "    result = tokenizer.decode(outputs[0])\n",
    "    return result"
   ]
  },
  {
   "cell_type": "code",
   "execution_count": 30,
   "id": "812247ea-cba1-4d9d-89da-9c2ea78bb4cf",
   "metadata": {
    "execution": {
     "iopub.execute_input": "2024-07-07T23:21:07.794640Z",
     "iopub.status.busy": "2024-07-07T23:21:07.794342Z",
     "iopub.status.idle": "2024-07-07T23:22:20.147854Z",
     "shell.execute_reply": "2024-07-07T23:22:20.146996Z",
     "shell.execute_reply.started": "2024-07-07T23:21:07.794617Z"
    },
    "tags": []
   },
   "outputs": [
    {
     "data": {
      "text/plain": [
       "\"<pad> Yes, even if you don't register, you're still eligible to submit the homeworks. Be aware, however, that there will be deadlines for turning in the final projects. So don't leave everything for the last minute.</s>\""
      ]
     },
     "execution_count": 30,
     "metadata": {},
     "output_type": "execute_result"
    }
   ],
   "source": [
    "rag(\"I just discovered the course. Can I still join?\")"
   ]
  },
  {
   "cell_type": "code",
   "execution_count": null,
   "id": "4acf9e64-e89e-4ae3-8e7a-0b39bc27d2fd",
   "metadata": {},
   "outputs": [],
   "source": []
  }
 ],
 "metadata": {
  "kernelspec": {
   "display_name": "saturn (Python 3)",
   "language": "python",
   "name": "python3"
  },
  "language_info": {
   "codemirror_mode": {
    "name": "ipython",
    "version": 3
   },
   "file_extension": ".py",
   "mimetype": "text/x-python",
   "name": "python",
   "nbconvert_exporter": "python",
   "pygments_lexer": "ipython3",
   "version": "3.9.18"
  }
 },
 "nbformat": 4,
 "nbformat_minor": 5
}
