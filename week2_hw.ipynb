{
 "cells": [
  {
   "cell_type": "code",
   "execution_count": 1,
   "id": "c166ba2e-24bc-4ef2-9b99-8ac07f765efa",
   "metadata": {
    "execution": {
     "iopub.execute_input": "2024-07-08T00:52:46.314171Z",
     "iopub.status.busy": "2024-07-08T00:52:46.313821Z",
     "iopub.status.idle": "2024-07-08T00:52:46.918892Z",
     "shell.execute_reply": "2024-07-08T00:52:46.918254Z",
     "shell.execute_reply.started": "2024-07-08T00:52:46.314144Z"
    },
    "tags": []
   },
   "outputs": [
    {
     "name": "stdout",
     "output_type": "stream",
     "text": [
      "/bin/bash: line 1: docker: command not found\n"
     ]
    }
   ],
   "source": [
    "!docker run -it \\\n",
    "    -v ollama:/root/.ollama \\\n",
    "    -p 11434:11434 \\\n",
    "    --name ollama \\\n",
    "    ollama/ollama"
   ]
  },
  {
   "cell_type": "code",
   "execution_count": null,
   "id": "b1854a32-be9c-4913-9e05-124c058778fc",
   "metadata": {},
   "outputs": [],
   "source": []
  }
 ],
 "metadata": {
  "kernelspec": {
   "display_name": "saturn (Python 3)",
   "language": "python",
   "name": "python3"
  },
  "language_info": {
   "codemirror_mode": {
    "name": "ipython",
    "version": 3
   },
   "file_extension": ".py",
   "mimetype": "text/x-python",
   "name": "python",
   "nbconvert_exporter": "python",
   "pygments_lexer": "ipython3",
   "version": "3.9.18"
  }
 },
 "nbformat": 4,
 "nbformat_minor": 5
}
